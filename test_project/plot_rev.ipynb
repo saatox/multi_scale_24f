{
 "cells": [
  {
   "cell_type": "code",
   "execution_count": 1,
   "metadata": {},
   "outputs": [],
   "source": [
    "import matplotlib.pyplot as plt\n",
    "import numpy as np\n",
    "import re"
   ]
  },
  {
   "cell_type": "code",
   "execution_count": 2,
   "metadata": {},
   "outputs": [
    {
     "name": "stdout",
     "output_type": "stream",
     "text": [
      "[[-1.0, 1.0], [-0.8, 0.8400000000000001], [-0.6, 0.76], [-0.3999999999999999, 0.76], [-0.19999999999999996, 0.8400000000000001], [0.0, 1.0], [0.20000000000000018, 1.2400000000000002], [0.40000000000000013, 1.5600000000000003], [0.6000000000000001, 1.9600000000000002], [0.8, 2.4400000000000004], [1.0, 3.0]]\n"
     ]
    }
   ],
   "source": [
    "temp = []\n",
    "with open('results.txt') as f:\n",
    "    for line in f:\n",
    "        # 正規表現で数値を抽出\n",
    "        pattern = r\"-?\\d+\\.\\d+\"  # 浮動小数点数の正規表現\n",
    "        matches = re.findall(pattern, line)\n",
    "\n",
    "        # 文字列から数値に変換\n",
    "        float_numbers = [float(match) for match in matches]\n",
    "        temp.append([float_numbers[0],float_numbers[2]])\n",
    "\n",
    "print(temp[1:])"
   ]
  },
  {
   "cell_type": "code",
   "execution_count": 6,
   "metadata": {
    "scrolled": false
   },
   "outputs": [
    {
     "data": {
      "image/png": "[encoded data removed]",
      "text/plain": [
       "<Figure size 432x288 with 1 Axes>"
      ]
     },
     "metadata": {
      "needs_background": "light"
     },
     "output_type": "display_data"
    }
   ],
   "source": [
    "x,y=zip(*temp[1:])\n",
    "plt.plot(x,y)\n",
    "plt.show()"
   ]
  },
  {
   "cell_type": "code",
   "execution_count": null,
   "metadata": {},
   "outputs": [],
   "source": []
  },
  {
   "cell_type": "code",
   "execution_count": null,
   "metadata": {},
   "outputs": [],
   "source": []
  }
 ],
 "metadata": {
  "kernelspec": {
   "display_name": "Python 3",
   "language": "python",
   "name": "python3"
  },
  "language_info": {
   "codemirror_mode": {
    "name": "ipython",
    "version": 3
   },
   "file_extension": ".py",
   "mimetype": "text/x-python",
   "name": "python",
   "nbconvert_exporter": "python",
   "pygments_lexer": "ipython3",
   "version": "3.8.5"
  },
  "toc": {
   "base_numbering": 1,
   "nav_menu": {},
   "number_sections": true,
   "sideBar": true,
   "skip_h1_title": false,
   "title_cell": "Table of Contents",
   "title_sidebar": "Contents",
   "toc_cell": false,
   "toc_position": {},
   "toc_section_display": true,
   "toc_window_display": false
  }
 },
 "nbformat": 4,
 "nbformat_minor": 2
}
